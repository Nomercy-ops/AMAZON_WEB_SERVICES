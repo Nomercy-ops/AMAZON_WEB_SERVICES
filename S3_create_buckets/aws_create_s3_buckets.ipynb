{
 "cells": [
  {
   "cell_type": "code",
   "execution_count": 1,
   "source": [
    "import boto3\n",
    "import pandas as pd\n",
    "import os\n",
    "from dotenv import load_dotenv\n",
    "from loghandler import logger\n",
    "load_dotenv('.env')\n",
    "\n",
    "\n",
    "s3 = boto3.client('s3')"
   ],
   "outputs": [],
   "metadata": {}
  },
  {
   "cell_type": "markdown",
   "source": [
    "# Fetching all the created buckets"
   ],
   "metadata": {}
  },
  {
   "cell_type": "code",
   "execution_count": null,
   "source": [
    "try:\n",
    "    s3 = boto3.resource(\n",
    "        service_name='s3',\n",
    "        region_name='ap-south-1',\n",
    "        aws_access_key_id=os.getenv(\"ACCESS_KEY\"),\n",
    "        aws_secret_access_key=os.getenv(\"SECRET_KEY\")\n",
    "    )\n",
    "except Exception as e:\n",
    "    logger.error(e)"
   ],
   "outputs": [],
   "metadata": {}
  },
  {
   "cell_type": "markdown",
   "source": [
    "# Print out bucket names"
   ],
   "metadata": {}
  },
  {
   "cell_type": "code",
   "execution_count": null,
   "source": [
    "for bucket in s3.buckets.all():\n",
    "    logger.info(bucket.name)"
   ],
   "outputs": [],
   "metadata": {}
  },
  {
   "cell_type": "markdown",
   "source": [
    "# creating a bucket in s3"
   ],
   "metadata": {}
  },
  {
   "cell_type": "code",
   "execution_count": null,
   "source": [
    "bucket = s3.create_bucket(Bucket='rikesh1',CreateBucketConfiguration={'LocationConstraint':'ap-south-1'})"
   ],
   "outputs": [],
   "metadata": {}
  },
  {
   "cell_type": "markdown",
   "source": [
    "# Creating a Dataframe and Uploading it into bucket"
   ],
   "metadata": {}
  },
  {
   "cell_type": "code",
   "execution_count": null,
   "source": [
    "# Make dataframes\n",
    "data1 = pd.DataFrame({'x': [1, 2, 3], 'y': ['a', 'b', 'c']})\n",
    "data2 = pd.DataFrame({'x': [10, 20, 30], 'y': ['aa', 'bb', 'cc']})\n",
    "\n",
    "# Save to csv\n",
    "data1.to_csv('data1.csv')\n",
    "data2.to_csv('data2.csv')"
   ],
   "outputs": [],
   "metadata": {}
  },
  {
   "cell_type": "code",
   "execution_count": null,
   "source": [
    "\n",
    "# Upload files to S3 bucket\n",
    "s3.Bucket('rikesh1').upload_file(Filename='data1.csv', Key='data1.csv')\n",
    "s3.Bucket('rikesh1').upload_file(Filename='data2.csv', Key='data2.csv')"
   ],
   "outputs": [],
   "metadata": {}
  },
  {
   "cell_type": "markdown",
   "source": [
    "# fetching objects from bucket"
   ],
   "metadata": {}
  },
  {
   "cell_type": "code",
   "execution_count": null,
   "source": [
    "for obj in s3.Bucket('rikesh1').objects.all():\n",
    "    logger.info(obj)"
   ],
   "outputs": [],
   "metadata": {}
  },
  {
   "cell_type": "markdown",
   "source": [
    "# Read csv file from s3 bucket directly into python"
   ],
   "metadata": {}
  },
  {
   "cell_type": "code",
   "execution_count": null,
   "source": [
    "\n",
    "myfile1 = s3.Bucket('rikesh1').Object('data1.csv').get()\n",
    "pd_data = pd.read_csv(myfile1['Body'], index_col=0)"
   ],
   "outputs": [],
   "metadata": {}
  },
  {
   "cell_type": "code",
   "execution_count": null,
   "source": [
    "myfile2 = s3.Bucket('rikesh1').Object('data2.csv').get()\n",
    "pd_data = pd.read_csv(myfile2['Body'], index_col=0)"
   ],
   "outputs": [],
   "metadata": {}
  },
  {
   "cell_type": "code",
   "execution_count": null,
   "source": [
    "\n",
    "pd_data.head()"
   ],
   "outputs": [],
   "metadata": {}
  },
  {
   "cell_type": "markdown",
   "source": [
    "# Download file and read from disc"
   ],
   "metadata": {}
  },
  {
   "cell_type": "code",
   "execution_count": null,
   "source": [
    "\n",
    "s3.Bucket('rikesh1').download_file(Key='data1.csv', Filename='downloaded.csv')\n",
    "pd.read_csv('downloaded.csv', index_col=0)"
   ],
   "outputs": [],
   "metadata": {}
  },
  {
   "cell_type": "markdown",
   "source": [
    "# Deleting a data from a Bucket"
   ],
   "metadata": {}
  },
  {
   "cell_type": "code",
   "execution_count": null,
   "source": [
    "bucket = s3.Bucket('rikesh1')\n",
    "bucket.objects.all().delete()"
   ],
   "outputs": [],
   "metadata": {}
  },
  {
   "cell_type": "markdown",
   "source": [
    "# Deleting a bucket from s3"
   ],
   "metadata": {}
  },
  {
   "cell_type": "code",
   "execution_count": null,
   "source": [
    "bucket = s3.Bucket('rikesh1')\n",
    "bucket.delete()"
   ],
   "outputs": [],
   "metadata": {}
  },
  {
   "cell_type": "markdown",
   "source": [
    "# Deleting a bucket object with version"
   ],
   "metadata": {}
  },
  {
   "cell_type": "code",
   "execution_count": null,
   "source": [
    "bucket = s3.Bucket('rikesh1')\n",
    "bucket.object_versions.delete()"
   ],
   "outputs": [],
   "metadata": {}
  }
 ],
 "metadata": {
  "orig_nbformat": 4,
  "language_info": {
   "name": "python",
   "version": "3.8.10",
   "mimetype": "text/x-python",
   "codemirror_mode": {
    "name": "ipython",
    "version": 3
   },
   "pygments_lexer": "ipython3",
   "nbconvert_exporter": "python",
   "file_extension": ".py"
  },
  "kernelspec": {
   "name": "python3",
   "display_name": "Python 3.8.10 64-bit"
  },
  "interpreter": {
   "hash": "916dbcbb3f70747c44a77c7bcd40155683ae19c65e1c03b4aa3499c5328201f1"
  }
 },
 "nbformat": 4,
 "nbformat_minor": 2
}